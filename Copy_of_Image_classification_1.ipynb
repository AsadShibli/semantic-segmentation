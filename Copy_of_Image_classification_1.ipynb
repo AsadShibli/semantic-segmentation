{
  "nbformat": 4,
  "nbformat_minor": 0,
  "metadata": {
    "colab": {
      "provenance": [],
      "gpuType": "T4"
    },
    "kernelspec": {
      "name": "python3",
      "display_name": "Python 3"
    },
    "language_info": {
      "name": "python"
    },
    "accelerator": "GPU"
  },
  "cells": [
    {
      "cell_type": "code",
      "execution_count": 1,
      "metadata": {
        "id": "-0Peghhsbr3M"
      },
      "outputs": [],
      "source": [
        "\n",
        "import tensorflow as tf\n",
        "import numpy as np\n",
        "import pandas as pd\n",
        "import cv2\n",
        "import os\n",
        "import tqdm, time\n",
        "\n",
        "import glob\n",
        "import random,time\n",
        "\n",
        "import math\n",
        "\n",
        "from functools import partial\n",
        "\n",
        "from tensorflow import keras\n",
        "from tensorflow.keras import layers\n",
        "from tensorflow.keras.layers import *\n",
        "from tensorflow.keras.models import *\n",
        "from tensorflow.keras.callbacks import *\n",
        "from tensorflow.keras import backend as K\n",
        "from tensorflow.keras.utils import *\n",
        "from tensorflow.keras.regularizers import *\n",
        "import matplotlib.pyplot as plt\n"
      ]
    },
    {
      "cell_type": "markdown",
      "source": [
        "**Loading the CIFAR10 dataset**"
      ],
      "metadata": {
        "id": "XpK3zkKhcbwE"
      }
    },
    {
      "cell_type": "code",
      "source": [
        "(x_train, y_train), (x_test, y_test) = keras.datasets.cifar10.load_data()\n",
        "\n",
        "from sklearn.model_selection import train_test_split\n",
        "\n",
        "\n",
        "x_train, x_val_test, y_train, y_val_test = train_test_split(x_train, y_train, test_size=0.6, random_state=42)\n",
        "\n",
        "\n",
        "x_test, x_val, y_test, y_val = train_test_split(x_val_test, y_val_test, test_size=0.5, random_state=42)\n",
        "print(f\"Training data samples: {len(x_train)}\")\n",
        "print(f\"Validation data samples: {len(x_val)}\")\n",
        "print(f\"Test data samples: {len(x_test)}\")\n"
      ],
      "metadata": {
        "colab": {
          "base_uri": "https://localhost:8080/"
        },
        "id": "MlapEKhobvkV",
        "outputId": "cfeb38bf-2ef8-4d98-fec8-e813ae55a91c"
      },
      "execution_count": 8,
      "outputs": [
        {
          "output_type": "stream",
          "name": "stdout",
          "text": [
            "Training data samples: 20000\n",
            "Validation data samples: 15000\n",
            "Test data samples: 15000\n"
          ]
        }
      ]
    },
    {
      "cell_type": "code",
      "source": [
        "x_train[0]"
      ],
      "metadata": {
        "colab": {
          "base_uri": "https://localhost:8080/",
          "height": 72
        },
        "id": "5lm7dPwLBxCI",
        "outputId": "d17e4898-76e7-4955-b1f4-f55ccc1e774d"
      },
      "execution_count": 9,
      "outputs": [
        {
          "output_type": "execute_result",
          "data": {
            "text/plain": [
              "array([[[245, 238, 246],\n",
              "        [240, 238, 236],\n",
              "        [239, 236, 242],\n",
              "        ...,\n",
              "        [217, 223, 253],\n",
              "        [210, 214, 252],\n",
              "        [206, 209, 251]],\n",
              "\n",
              "       [[230, 226, 245],\n",
              "        [228, 226, 242],\n",
              "        [231, 229, 245],\n",
              "        ...,\n",
              "        [201, 203, 232],\n",
              "        [203, 204, 244],\n",
              "        [196, 203, 247]],\n",
              "\n",
              "       [[226, 225, 248],\n",
              "        [228, 226, 244],\n",
              "        [234, 232, 246],\n",
              "        ...,\n",
              "        [155, 145, 158],\n",
              "        [190, 189, 223],\n",
              "        [194, 203, 252]],\n",
              "\n",
              "       ...,\n",
              "\n",
              "       [[ 58,  72,  10],\n",
              "        [ 53,  67,   5],\n",
              "        [ 72,  90,  11],\n",
              "        ...,\n",
              "        [ 51,  65,   8],\n",
              "        [ 50,  64,   7],\n",
              "        [ 45,  55,   8]],\n",
              "\n",
              "       [[ 48,  62,   9],\n",
              "        [ 53,  66,   9],\n",
              "        [ 65,  79,   9],\n",
              "        ...,\n",
              "        [ 47,  58,   9],\n",
              "        [ 53,  68,   9],\n",
              "        [ 49,  64,  11]],\n",
              "\n",
              "       [[ 45,  59,  12],\n",
              "        [ 55,  66,  12],\n",
              "        [ 54,  64,   9],\n",
              "        ...,\n",
              "        [ 56,  66,  11],\n",
              "        [ 51,  67,   8],\n",
              "        [ 46,  61,   7]]], dtype=uint8)"
            ],
            "text/html": [
              "<style>\n",
              "      .ndarray_repr .ndarray_raw_data {\n",
              "        display: none;\n",
              "      }\n",
              "      .ndarray_repr.show_array .ndarray_raw_data {\n",
              "        display: block;\n",
              "      }\n",
              "      .ndarray_repr.show_array .ndarray_image_preview {\n",
              "        display: none;\n",
              "      }\n",
              "      </style>\n",
              "      <div id=\"id-178acceb-8ac6-4b09-ad19-07e6c6e59900\" class=\"ndarray_repr\"><pre>ndarray (32, 32, 3) <button style=\"padding: 0 2px;\">show data</button></pre><img src=\"data:image/png;base64,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\" class=\"ndarray_image_preview\" /><pre class=\"ndarray_raw_data\">array([[[245, 238, 246],\n",
              "        [240, 238, 236],\n",
              "        [239, 236, 242],\n",
              "        ...,\n",
              "        [217, 223, 253],\n",
              "        [210, 214, 252],\n",
              "        [206, 209, 251]],\n",
              "\n",
              "       [[230, 226, 245],\n",
              "        [228, 226, 242],\n",
              "        [231, 229, 245],\n",
              "        ...,\n",
              "        [201, 203, 232],\n",
              "        [203, 204, 244],\n",
              "        [196, 203, 247]],\n",
              "\n",
              "       [[226, 225, 248],\n",
              "        [228, 226, 244],\n",
              "        [234, 232, 246],\n",
              "        ...,\n",
              "        [155, 145, 158],\n",
              "        [190, 189, 223],\n",
              "        [194, 203, 252]],\n",
              "\n",
              "       ...,\n",
              "\n",
              "       [[ 58,  72,  10],\n",
              "        [ 53,  67,   5],\n",
              "        [ 72,  90,  11],\n",
              "        ...,\n",
              "        [ 51,  65,   8],\n",
              "        [ 50,  64,   7],\n",
              "        [ 45,  55,   8]],\n",
              "\n",
              "       [[ 48,  62,   9],\n",
              "        [ 53,  66,   9],\n",
              "        [ 65,  79,   9],\n",
              "        ...,\n",
              "        [ 47,  58,   9],\n",
              "        [ 53,  68,   9],\n",
              "        [ 49,  64,  11]],\n",
              "\n",
              "       [[ 45,  59,  12],\n",
              "        [ 55,  66,  12],\n",
              "        [ 54,  64,   9],\n",
              "        ...,\n",
              "        [ 56,  66,  11],\n",
              "        [ 51,  67,   8],\n",
              "        [ 46,  61,   7]]], dtype=uint8)</pre></div><script>\n",
              "      (() => {\n",
              "      const titles = ['show data', 'hide data'];\n",
              "      let index = 0\n",
              "      document.querySelector('#id-178acceb-8ac6-4b09-ad19-07e6c6e59900 button').onclick = (e) => {\n",
              "        document.querySelector('#id-178acceb-8ac6-4b09-ad19-07e6c6e59900').classList.toggle('show_array');\n",
              "        index = (++index) % 2;\n",
              "        document.querySelector('#id-178acceb-8ac6-4b09-ad19-07e6c6e59900 button').textContent = titles[index];\n",
              "        e.preventDefault();\n",
              "        e.stopPropagation();\n",
              "      }\n",
              "      })();\n",
              "    </script>"
            ]
          },
          "metadata": {},
          "execution_count": 9
        }
      ]
    },
    {
      "cell_type": "code",
      "source": [],
      "metadata": {
        "id": "bGKcoObyA4Qg"
      },
      "execution_count": null,
      "outputs": []
    },
    {
      "cell_type": "markdown",
      "source": [
        "**Normalization**"
      ],
      "metadata": {
        "id": "jGbqOhUYeorS"
      }
    },
    {
      "cell_type": "code",
      "source": [
        "new_x_train_nor = x_train/255\n",
        "x_val_nor  = x_val/255\n",
        "x_test_nor = x_test/255"
      ],
      "metadata": {
        "id": "cYIPDmKbbvoX"
      },
      "execution_count": 13,
      "outputs": []
    },
    {
      "cell_type": "markdown",
      "source": [
        "**Label preparation**"
      ],
      "metadata": {
        "id": "2RccLrNofSAH"
      }
    },
    {
      "cell_type": "code",
      "source": [
        "from keras.src.utils.np_utils import to_categorical\n",
        "total_class = len(np.unique(y_train))\n",
        "\n",
        "new_y_train_hot = to_categorical( y_train, total_class)\n",
        "\n",
        "y_val_hot  = to_categorical( y_val, total_class)\n",
        "\n",
        "y_test_hot = to_categorical( y_test, total_class)\n"
      ],
      "metadata": {
        "id": "Sg_lQj62bvrn"
      },
      "execution_count": 14,
      "outputs": []
    },
    {
      "cell_type": "code",
      "source": [],
      "metadata": {
        "id": "H0dRJrgO1GU3"
      },
      "execution_count": null,
      "outputs": []
    },
    {
      "cell_type": "code",
      "source": [
        "ijd = 100\n",
        "\n",
        "print(y_train[ijd], new_y_train_hot[ijd])"
      ],
      "metadata": {
        "colab": {
          "base_uri": "https://localhost:8080/"
        },
        "id": "NXWTAsn8bvvB",
        "outputId": "140eb5ba-2216-4892-f266-efb0cd77e9d6"
      },
      "execution_count": 15,
      "outputs": [
        {
          "output_type": "stream",
          "name": "stdout",
          "text": [
            "[0] [1. 0. 0. 0. 0. 0. 0. 0. 0. 0.]\n"
          ]
        }
      ]
    },
    {
      "cell_type": "code",
      "source": [
        "\n",
        "indx = [i for i in range(0, len(new_x_train_nor))]\n",
        "\n",
        "random.shuffle(indx)\n"
      ],
      "metadata": {
        "id": "yOt9glXobvx4"
      },
      "execution_count": 16,
      "outputs": []
    },
    {
      "cell_type": "code",
      "source": [
        "new_y_train_hot_1 =  []\n",
        "new_x_train_nor_1 = []\n",
        "\n",
        "small_f = 5000 # allocated length of the dataset\n",
        "for i in range(small_f):\n",
        "  new_x_train_nor_1.append(new_x_train_nor[indx[i]] )\n",
        "  new_y_train_hot_1.append(new_y_train_hot[indx[i]] )\n",
        "\n",
        "\n",
        "new_y_train_hot_1 = np.array(new_y_train_hot_1)\n",
        "new_x_train_nor_1 = np.array(new_x_train_nor_1)"
      ],
      "metadata": {
        "id": "C1izy7wUbv07"
      },
      "execution_count": 17,
      "outputs": []
    },
    {
      "cell_type": "code",
      "source": [
        "batch_size = 16\n",
        "auto = tf.data.AUTOTUNE\n",
        "\n",
        "def make_datasets(images, labels):\n",
        "    dataset = tf.data.Dataset.from_tensor_slices((images, labels))\n",
        "\n",
        "    dataset = dataset.shuffle(50000)\n",
        "    dataset = dataset.batch(batch_size)\n",
        "    return dataset.prefetch(auto)\n",
        "\n",
        "train_set =   make_datasets(new_x_train_nor_1, new_y_train_hot_1)\n",
        "val_set =   make_datasets(x_val_nor, y_val_hot)\n",
        "test_set =  make_datasets(x_test_nor, y_test_hot )"
      ],
      "metadata": {
        "id": "g2f18ciHbv3w"
      },
      "execution_count": 18,
      "outputs": []
    },
    {
      "cell_type": "code",
      "source": [
        "str_1,str_2 = next(iter(train_set))\n",
        "stv_1,stv_2 = next(iter(val_set))\n",
        "sts_1,sts_2 = next(iter(test_set))\n",
        "\n",
        "\n",
        "print('train, val, test batches', str_1.shape,str_2.shape,stv_1.shape,stv_2.shape,sts_1.shape,sts_2.shape )"
      ],
      "metadata": {
        "colab": {
          "base_uri": "https://localhost:8080/"
        },
        "id": "CBbhirOBie-F",
        "outputId": "f72b81ab-84b9-4730-efda-3b7872e6a4ca"
      },
      "execution_count": 19,
      "outputs": [
        {
          "output_type": "stream",
          "name": "stdout",
          "text": [
            "train, val, test batches (16, 32, 32, 3) (16, 10) (16, 32, 32, 3) (16, 10) (16, 32, 32, 3) (16, 10)\n"
          ]
        }
      ]
    },
    {
      "cell_type": "code",
      "source": [
        "from keras.regularizers import l2\n",
        "from keras.layers import BatchNormalization,Activation\n",
        "\n",
        "filters=32\n",
        "kernel_size=3\n",
        "dropout = 0.5\n",
        "l2_reg = 0.02\n",
        "\n",
        "inputs = Input(shape=(32, 32, 3))\n",
        "\n",
        "y = Conv2D(filters=32,kernel_regularizer=l2(l2_reg), kernel_size=kernel_size,activation='relu', padding='same', kernel_initializer='he_normal')(inputs)\n",
        "y = BatchNormalization()(y)\n",
        "y = MaxPooling2D()(y)\n",
        "\n",
        "\n",
        "y = Conv2D(filters=64,kernel_regularizer=l2(l2_reg), kernel_size=kernel_size,activation='relu', padding='same', kernel_initializer='he_normal')(inputs)\n",
        "y = BatchNormalization()(y)\n",
        "y = MaxPooling2D()(y)\n",
        "\n",
        "\n",
        "\n",
        "y = Conv2D(filters=128,kernel_regularizer=l2(l2_reg), kernel_size=kernel_size,activation='relu', padding='same', kernel_initializer='he_normal')(inputs)\n",
        "y = BatchNormalization()(y)\n",
        "y = MaxPooling2D()(y)\n",
        "\n",
        "y = Conv2D(filters=256,kernel_regularizer=l2(l2_reg), kernel_size=kernel_size,activation='relu', padding='same', kernel_initializer='he_normal')(inputs)\n",
        "y = BatchNormalization()(y)\n",
        "y = MaxPooling2D()(y)\n",
        "\n",
        "y = Flatten()(y)\n",
        "\n",
        "y = Dropout(dropout)(y)\n",
        "outputs = Dense(10, activation='softmax')(y)\n",
        "\n",
        "\n",
        "model = Model(inputs=inputs, outputs=outputs)\n",
        "\n"
      ],
      "metadata": {
        "id": "eIjaXCCvbvIW"
      },
      "execution_count": 22,
      "outputs": []
    },
    {
      "cell_type": "code",
      "source": [
        "\n",
        "lr_schedule = keras.optimizers.schedules.ExponentialDecay(3e-3, decay_steps=150, decay_rate=0.8)\n",
        "optima = tf.keras.optimizers.Adam(learning_rate=lr_schedule,clipnorm =1.0)\n",
        "earlystopping = keras.callbacks.EarlyStopping(\n",
        "    monitor=\"val_loss\",\n",
        "    patience=10,\n",
        "    verbose=1,\n",
        "    restore_best_weights=True,\n",
        ")\n",
        "\n",
        "model.compile(optimizer=optima,loss=\"categorical_crossentropy\", metrics=[\"accuracy\"],)"
      ],
      "metadata": {
        "id": "ywckyvHMk_iv"
      },
      "execution_count": 23,
      "outputs": []
    },
    {
      "cell_type": "code",
      "source": [
        "history = model.fit(train_set,validation_data=val_set,epochs=100,callbacks=[earlystopping])"
      ],
      "metadata": {
        "colab": {
          "base_uri": "https://localhost:8080/"
        },
        "id": "vx497aR9k_nU",
        "outputId": "33780479-d5d0-4f21-be4c-72c82b6553d9"
      },
      "execution_count": 24,
      "outputs": [
        {
          "output_type": "stream",
          "name": "stdout",
          "text": [
            "Epoch 1/100\n",
            "313/313 [==============================] - 11s 21ms/step - loss: 22.0555 - accuracy: 0.3124 - val_loss: 11.7870 - val_accuracy: 0.2979\n",
            "Epoch 2/100\n",
            "313/313 [==============================] - 4s 14ms/step - loss: 8.7255 - accuracy: 0.4918 - val_loss: 7.4070 - val_accuracy: 0.4253\n",
            "Epoch 3/100\n",
            "313/313 [==============================] - 4s 11ms/step - loss: 5.3801 - accuracy: 0.6264 - val_loss: 6.3690 - val_accuracy: 0.4419\n",
            "Epoch 4/100\n",
            "313/313 [==============================] - 4s 11ms/step - loss: 4.0002 - accuracy: 0.7064 - val_loss: 5.4524 - val_accuracy: 0.4831\n",
            "Epoch 5/100\n",
            "313/313 [==============================] - 4s 11ms/step - loss: 3.1907 - accuracy: 0.7790 - val_loss: 4.8839 - val_accuracy: 0.5007\n",
            "Epoch 6/100\n",
            "313/313 [==============================] - 3s 11ms/step - loss: 2.7699 - accuracy: 0.8242 - val_loss: 4.6808 - val_accuracy: 0.5041\n",
            "Epoch 7/100\n",
            "313/313 [==============================] - 4s 12ms/step - loss: 2.5064 - accuracy: 0.8424 - val_loss: 4.5538 - val_accuracy: 0.5095\n",
            "Epoch 8/100\n",
            "313/313 [==============================] - 4s 12ms/step - loss: 2.3397 - accuracy: 0.8580 - val_loss: 4.4851 - val_accuracy: 0.5113\n",
            "Epoch 9/100\n",
            "313/313 [==============================] - 3s 11ms/step - loss: 2.2343 - accuracy: 0.8724 - val_loss: 4.4179 - val_accuracy: 0.5125\n",
            "Epoch 10/100\n",
            "313/313 [==============================] - 3s 11ms/step - loss: 2.1706 - accuracy: 0.8758 - val_loss: 4.3928 - val_accuracy: 0.5145\n",
            "Epoch 11/100\n",
            "313/313 [==============================] - 4s 12ms/step - loss: 2.1273 - accuracy: 0.8808 - val_loss: 4.3629 - val_accuracy: 0.5145\n",
            "Epoch 12/100\n",
            "313/313 [==============================] - 3s 11ms/step - loss: 2.1226 - accuracy: 0.8802 - val_loss: 4.3552 - val_accuracy: 0.5142\n",
            "Epoch 13/100\n",
            "313/313 [==============================] - 4s 13ms/step - loss: 2.0906 - accuracy: 0.8852 - val_loss: 4.3468 - val_accuracy: 0.5136\n",
            "Epoch 14/100\n",
            "313/313 [==============================] - 4s 12ms/step - loss: 2.0929 - accuracy: 0.8830 - val_loss: 4.3426 - val_accuracy: 0.5143\n",
            "Epoch 15/100\n",
            "313/313 [==============================] - 4s 11ms/step - loss: 2.0605 - accuracy: 0.8920 - val_loss: 4.3387 - val_accuracy: 0.5143\n",
            "Epoch 16/100\n",
            "313/313 [==============================] - 4s 13ms/step - loss: 2.0549 - accuracy: 0.8914 - val_loss: 4.3401 - val_accuracy: 0.5150\n",
            "Epoch 17/100\n",
            "313/313 [==============================] - 3s 11ms/step - loss: 2.0693 - accuracy: 0.8930 - val_loss: 4.3385 - val_accuracy: 0.5153\n",
            "Epoch 18/100\n",
            "313/313 [==============================] - 3s 11ms/step - loss: 2.0644 - accuracy: 0.8866 - val_loss: 4.3400 - val_accuracy: 0.5149\n",
            "Epoch 19/100\n",
            "313/313 [==============================] - 4s 12ms/step - loss: 2.0550 - accuracy: 0.8918 - val_loss: 4.3368 - val_accuracy: 0.5149\n",
            "Epoch 20/100\n",
            "313/313 [==============================] - 4s 11ms/step - loss: 2.0738 - accuracy: 0.8840 - val_loss: 4.3333 - val_accuracy: 0.5151\n",
            "Epoch 21/100\n",
            "313/313 [==============================] - 3s 11ms/step - loss: 2.0665 - accuracy: 0.8888 - val_loss: 4.3349 - val_accuracy: 0.5145\n",
            "Epoch 22/100\n",
            "313/313 [==============================] - 4s 13ms/step - loss: 2.0715 - accuracy: 0.8904 - val_loss: 4.3352 - val_accuracy: 0.5149\n",
            "Epoch 23/100\n",
            "313/313 [==============================] - 4s 13ms/step - loss: 2.0647 - accuracy: 0.8910 - val_loss: 4.3407 - val_accuracy: 0.5153\n",
            "Epoch 24/100\n",
            "313/313 [==============================] - 3s 11ms/step - loss: 2.0763 - accuracy: 0.8858 - val_loss: 4.3318 - val_accuracy: 0.5147\n",
            "Epoch 25/100\n",
            "313/313 [==============================] - 4s 13ms/step - loss: 2.0581 - accuracy: 0.8888 - val_loss: 4.3296 - val_accuracy: 0.5152\n",
            "Epoch 26/100\n",
            "313/313 [==============================] - 3s 11ms/step - loss: 2.0431 - accuracy: 0.8986 - val_loss: 4.3327 - val_accuracy: 0.5153\n",
            "Epoch 27/100\n",
            "313/313 [==============================] - 3s 11ms/step - loss: 2.0514 - accuracy: 0.8926 - val_loss: 4.3339 - val_accuracy: 0.5151\n",
            "Epoch 28/100\n",
            "313/313 [==============================] - 4s 12ms/step - loss: 2.0717 - accuracy: 0.8880 - val_loss: 4.3321 - val_accuracy: 0.5150\n",
            "Epoch 29/100\n",
            "313/313 [==============================] - 4s 13ms/step - loss: 2.0740 - accuracy: 0.8830 - val_loss: 4.3349 - val_accuracy: 0.5152\n",
            "Epoch 30/100\n",
            "313/313 [==============================] - 3s 11ms/step - loss: 2.0692 - accuracy: 0.8920 - val_loss: 4.3332 - val_accuracy: 0.5149\n",
            "Epoch 31/100\n",
            "313/313 [==============================] - 4s 12ms/step - loss: 2.0617 - accuracy: 0.8896 - val_loss: 4.3410 - val_accuracy: 0.5149\n",
            "Epoch 32/100\n",
            "313/313 [==============================] - 3s 11ms/step - loss: 2.0616 - accuracy: 0.8898 - val_loss: 4.3319 - val_accuracy: 0.5150\n",
            "Epoch 33/100\n",
            "313/313 [==============================] - 3s 11ms/step - loss: 2.0652 - accuracy: 0.8866 - val_loss: 4.3382 - val_accuracy: 0.5149\n",
            "Epoch 34/100\n",
            "313/313 [==============================] - 4s 12ms/step - loss: 2.0631 - accuracy: 0.8926 - val_loss: 4.3393 - val_accuracy: 0.5151\n",
            "Epoch 35/100\n",
            "305/313 [============================>.] - ETA: 0s - loss: 2.0586 - accuracy: 0.8891Restoring model weights from the end of the best epoch: 25.\n",
            "313/313 [==============================] - 4s 11ms/step - loss: 2.0610 - accuracy: 0.8882 - val_loss: 4.3333 - val_accuracy: 0.5151\n",
            "Epoch 35: early stopping\n"
          ]
        }
      ]
    },
    {
      "cell_type": "code",
      "source": [
        "loss_t, acc_t = model.evaluate(test_set)"
      ],
      "metadata": {
        "colab": {
          "base_uri": "https://localhost:8080/"
        },
        "id": "XgsBqYZek_rV",
        "outputId": "f2266fb3-3f8f-4f2c-90d7-0301de33a65a"
      },
      "execution_count": 25,
      "outputs": [
        {
          "output_type": "stream",
          "name": "stdout",
          "text": [
            "938/938 [==============================] - 3s 3ms/step - loss: 4.3332 - accuracy: 0.5158\n"
          ]
        }
      ]
    },
    {
      "cell_type": "code",
      "source": [
        "print(history.history.keys())"
      ],
      "metadata": {
        "id": "sQZ6TpfzsZWV",
        "colab": {
          "base_uri": "https://localhost:8080/"
        },
        "outputId": "d14038b3-6bea-40cd-d391-861ae313fc96"
      },
      "execution_count": 26,
      "outputs": [
        {
          "output_type": "stream",
          "name": "stdout",
          "text": [
            "dict_keys(['loss', 'accuracy', 'val_loss', 'val_accuracy'])\n"
          ]
        }
      ]
    },
    {
      "cell_type": "code",
      "source": [
        "fig, ax = plt.subplots(figsize=(7, 4))\n",
        "plt.plot(history.history['accuracy'])\n",
        "plt.plot(history.history['val_accuracy'])\n",
        "plt.legend(['train_accuracy', 'val_accuracy'], loc='upper left')"
      ],
      "metadata": {
        "id": "zVrMh-CzifB0",
        "colab": {
          "base_uri": "https://localhost:8080/",
          "height": 385
        },
        "outputId": "8b5a8ab3-d324-4739-ba53-9b6e3e31e282"
      },
      "execution_count": 27,
      "outputs": [
        {
          "output_type": "execute_result",
          "data": {
            "text/plain": [
              "<matplotlib.legend.Legend at 0x7e4bf8cda770>"
            ]
          },
          "metadata": {},
          "execution_count": 27
        },
        {
          "output_type": "display_data",
          "data": {
            "text/plain": [
              "<Figure size 700x400 with 1 Axes>"
            ],
            "image/png": "[encoded data removed]"
          },
          "metadata": {}
        }
      ]
    },
    {
      "cell_type": "code",
      "source": [],
      "metadata": {
        "id": "DV1W7LQktODm"
      },
      "execution_count": null,
      "outputs": []
    },
    {
      "cell_type": "code",
      "source": [],
      "metadata": {
        "id": "kPJ6MMNWtOG9"
      },
      "execution_count": null,
      "outputs": []
    },
    {
      "cell_type": "code",
      "source": [],
      "metadata": {
        "id": "_GpSCWNgtOLG"
      },
      "execution_count": null,
      "outputs": []
    },
    {
      "cell_type": "code",
      "source": [],
      "metadata": {
        "id": "zm1hnB8xtOQB"
      },
      "execution_count": null,
      "outputs": []
    },
    {
      "cell_type": "code",
      "source": [],
      "metadata": {
        "id": "sMepakkrtOTl"
      },
      "execution_count": null,
      "outputs": []
    },
    {
      "cell_type": "code",
      "source": [],
      "metadata": {
        "id": "1TwTrqU3uk71"
      },
      "execution_count": null,
      "outputs": []
    },
    {
      "cell_type": "code",
      "source": [],
      "metadata": {
        "id": "GZzTwZcZue4F"
      },
      "execution_count": null,
      "outputs": []
    },
    {
      "cell_type": "code",
      "source": [],
      "metadata": {
        "id": "T-n2b49zue7_"
      },
      "execution_count": null,
      "outputs": []
    },
    {
      "cell_type": "code",
      "source": [],
      "metadata": {
        "id": "avyIsPNAufJd"
      },
      "execution_count": null,
      "outputs": []
    },
    {
      "cell_type": "code",
      "source": [],
      "metadata": {
        "id": "NV5biEGgtOXq"
      },
      "execution_count": null,
      "outputs": []
    },
    {
      "cell_type": "code",
      "source": [
        "\n",
        "\n",
        "@tf.function\n",
        "def train_step(x_batch_train, y_batch_train, model ):\n",
        "\n",
        "\n",
        "    with tf.GradientTape(persistent = True) as tape:\n",
        "        logits = model(x_batch_train , training=True)\n",
        "        loss_value = loss_fn(y_batch_train, logits)\n",
        "\n",
        "    grads = tape.gradient(loss_value, model.trainable_weights)\n",
        "    optimizer.apply_gradients(zip( grads, model.trainable_weights))\n",
        "\n",
        "    train_acc_metric.update_state(y_batch_train, logits)\n",
        "    return loss_value"
      ],
      "metadata": {
        "id": "aRDETpcZifR8"
      },
      "execution_count": null,
      "outputs": []
    }
  ]
}